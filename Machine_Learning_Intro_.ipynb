{
  "nbformat": 4,
  "nbformat_minor": 0,
  "metadata": {
    "colab": {
      "provenance": []
    },
    "kernelspec": {
      "name": "python3",
      "display_name": "Python 3"
    },
    "language_info": {
      "name": "python"
    }
  },
  "cells": [
    {
      "cell_type": "markdown",
      "source": [
        "1. Explain the differences between AI, ML, Deep Learning (DL), and Data\n",
        "Science (DS).\n",
        " - Artificial Intelligence (AI), Machine Learning (ML), Deep Learning (DL), and Data Science (DS)—are often used interchangeably, but they refer to different concepts and scopes within the field of computing and data analysis. Here’s a breakdown:\n",
        "\n",
        "    1. Artificial Intelligence (AI)\n",
        "       * Definition: AI is the broadest concept. It refers to machines or software that can simulate human intelligence—such as reasoning, problem-solving, learning, and understanding language.\n",
        "       * Goal: To build systems that can perform tasks typically requiring human intelligence.\n",
        "       * Examples:\n",
        "         * Chatbots like ChatGPT\n",
        "         * Smart assistants (e.g., Siri, Alexa)\n",
        "         * Game-playing bots (e.g., AlphaGo)\n",
        "         * Self-driving cars\n",
        "    2. Machine Learning (ML)\n",
        "       * Definition: ML is a subset of AI. It involves algorithms that enable   computers to learn from data without being explicitly programmed.\n",
        "       * Goal: To create models that can make predictions or decisions based on data.\n",
        "       * Types of ML:\n",
        "         * Supervised Learning (e.g., classification, regression)\n",
        "         * Unsupervised Learning (e.g., clustering, dimensionality reduction)\n",
        "         * Reinforcement Learning (e.g., agents learning via rewards)\n",
        "       * Examples:\n",
        "         * Email spam filters\n",
        "         * Product recommendation systems\n",
        "         * Stock price prediction\n",
        "    3. Deep Learning (DL)\n",
        "       * Definition: DL is a subset of ML, inspired by the structure and function of the brain's neural networks. It uses artificial neural networks, especially deep (multi-layered) ones.\n",
        "       * Goal: To automatically discover intricate patterns in large data sets.\n",
        "       * Examples:\n",
        "         * Image recognition (e.g., facial recognition)\n",
        "         * Speech-to-text systems\n",
        "         * Language translation\n",
        "         * Generative AI (e.g., DALL·E, GPT models)\n",
        "     4. Data Science (DS)\n",
        "       * Definition: Data Science is a broader, interdisciplinary field that combines statistics, data analysis, ML, and domain knowledge to extract insights from data.\n",
        "       * Goal: To understand and solve real-world problems using data.\n",
        "       * Components:\n",
        "         * Data collection and cleaning\n",
        "         * Exploratory data analysis\n",
        "         * Modeling (can include ML)\n",
        "         * Communication of results (via visualization, reports)\n",
        "       * Examples:\n",
        "         * Analyzing customer churn\n",
        "         * Business intelligence dashboards\n",
        "         * Fraud detection using statistical and ML tools\n",
        "         "
      ],
      "metadata": {
        "id": "NQZ2jaa20-YD"
      }
    },
    {
      "cell_type": "markdown",
      "source": [
        "2. What are the types of machine learning? Describe each with one\n",
        "real-world example.\n",
        " - Machine Learning (ML) is typically categorized into three main types, based on how the model learns from data:\n",
        "\n",
        "    1. Supervised Learning\n",
        "      * Definition: The model is trained on a labeled dataset, meaning each input has a corresponding correct output. The algorithm learns to map inputs to the correct outputs.\n",
        "      * Goal: To predict outcomes for new, unseen data based on past examples.\n",
        "      * Real-world Example:\n",
        "        \n",
        "         Email Spam Detection\n",
        "      * The model is trained on emails labeled as “spam” or “not spam.”\n",
        "      * Once trained, it can classify new incoming emails based on the patterns it has learned.\n",
        "    2. Unsupervised Learning\n",
        "      * Definition: The model is trained on unlabeled data, so it must find patterns, groupings, or structures in the data without predefined categories.\n",
        "      * Goal: To uncover hidden patterns or groupings in data.\n",
        "      * Real-world Example:\n",
        "        \n",
        "         Customer Segmentation\n",
        "      * Retailers use unsupervised learning (e.g., clustering) to group customers by purchasing behavior.\n",
        "      * This helps tailor marketing strategies for different segments.\n",
        "     3. Reinforcement Learning\n",
        "      * Definition: An agent learns to make decisions by interacting with an environment and receiving rewards or penalties based on its actions.\n",
        "      * Goal: To learn a strategy (policy) that maximizes cumulative reward over time.\n",
        "      * Real-world Example:\n",
        "\n",
        "         Self-Driving Cars\n",
        "       * The car (agent) learns how to drive by taking actions (accelerate, brake, steer) and receiving feedback (rewards for staying in the lane, penalties for collisions).\n",
        "       * Over time, it learns the best driving strategies through trial and error.\n",
        "\n",
        "      **Some sources also mention:**\n",
        "      * Semi-Supervised Learning: Combines a small amount of labeled data with a large amount of unlabeled data (e.g., for medical imaging where labeling is expensive).\n",
        "      * Self-Supervised Learning: Often used in NLP and vision where the model learns representations from unlabeled data by predicting parts of the input itself (used in models like GPT and BERT)."
      ],
      "metadata": {
        "id": "4e8n7-dT3rVx"
      }
    },
    {
      "cell_type": "markdown",
      "source": [
        "3. Define overfitting, underfitting, and the bias-variance tradeoff in machine\n",
        "learning.\n",
        " - These are core concepts in machine learning related to model performance and generalization. Here's a clear breakdown:\n",
        "    1. Overfitting\n",
        "     * Definition: Overfitting happens when a model learns the training data too well, including noise and irrelevant details. As a result, it performs well on the training set but poorly on new, unseen data.\n",
        "     * Cause: Model is too complex for the amount of training data (e.g., too many parameters, too deep a network).\n",
        "     * Visual Analogy: A curve that passes through every training point perfectly, even if that means making unnatural bends.\n",
        "     * Real-world Example: A stock prediction model that memorizes past trends perfectly but fails to predict future prices accurately.\n",
        "\n",
        "    2. Underfitting\n",
        "     * Definition: Underfitting happens when a model is too simple to capture the underlying patterns in the data. It performs poorly on both the training set and the test set.\n",
        "     * Cause: Model lacks complexity or capacity (e.g., using a linear model for a non-linear problem).\n",
        "     * Visual Analogy: A straight line trying to fit a wavy curve.\n",
        "     * Real-world Example: Using a basic rule-based system to predict complex human behavior like buying decisions.\n",
        "    3. Bias-Variance Tradeoff\n",
        "     * Definition: This is a fundamental tradeoff in machine learning that explains the balance between two types of error:\n",
        "       * Bias: Error due to overly simplistic assumptions in the model (leads to underfitting).\n",
        "       * Variance: Error due to the model being too sensitive to small fluctuations in the training data (leads to overfitting).\n",
        "     * Goal: Find a balance where the model is neither too simple (high bias) nor too complex (high variance).\n",
        "\n",
        "     **Ideal Model:**\n",
        "     * Low bias: Can capture complex patterns.\n",
        "     * Low variance: Generalizes well to new data."
      ],
      "metadata": {
        "id": "AxVU11Dv5UWM"
      }
    },
    {
      "cell_type": "markdown",
      "source": [
        "4. What are outliers in a dataset, and list three common techniques for\n",
        "handling them.\n",
        " - What Are Outliers in a Dataset?\n",
        "     \n",
        "     Outliers are data points that differ significantly from other observations in the dataset. They can arise due to measurement errors, data entry mistakes, or genuine variability in the data.\n",
        "     * Example: In a dataset of student test scores (mostly between 60–90), a score of 5 or 150 would likely be considered an outlier.\n",
        "\n",
        "     Why Outliers Matter\n",
        "     * They can skew statistical analyses, such as mean and standard deviation.\n",
        "     * They may negatively impact machine learning models, especially those sensitive to distance or assumptions of normality (like linear regression or KNN).\n",
        "\n",
        "     **Three Common Techniques for Handling Outliers**\n",
        "     1. Removal (Deletion)\n",
        "      * Description: Simply remove the outlier records from the dataset.\n",
        "      * When to Use: If the outliers are clearly errors or anomalies and are not relevant to the analysis.\n",
        "      * Example: Removing a temperature reading of 500°C in a room temperature dataset.\n",
        "     2. Transformation\n",
        "      * Description: Apply mathematical transformations (e.g., log, square root, z-score normalization) to reduce the impact of outliers.\n",
        "      * When to Use: When you want to retain all data but reduce outlier influence.\n",
        "      * Example: Applying a log transform to income data to compress high-income values.\n",
        "     3. Imputation or Capping (Winsorizing)\n",
        "      * Description: Replace outliers with a maximum/minimum threshold or with statistical values like the mean/median.\n",
        "      * When to Use: When you suspect outliers are distorting results but want to keep dataset size intact.\n",
        "      * Example: Replacing values beyond the 95th percentile with the 95th percentile value.\n",
        "\n",
        "     **Bonus Techniques:**\n",
        "      * Clustering-based detection: Identify outliers by using clustering algorithms (e.g., DBSCAN).\n",
        "      * Model-based methods: Use machine learning models (e.g., isolation forests or autoencoders) to detect and handle outliers.\n"
      ],
      "metadata": {
        "id": "uj_pmckR6ThI"
      }
    },
    {
      "cell_type": "markdown",
      "source": [
        "5. Explain the process of handling missing values and mention one\n",
        "imputation technique for numerical and one for categorical data.\n",
        "- Missing values are common in real-world datasets and can lead to biased analysis or errors in model training. Handling them properly is crucial for building accurate and reliable models.\n",
        "\n",
        "     **Step-by-Step Process for Handling Missing Values:**\n",
        "     1. Identify Missing Values\n",
        "       * Check how many and which values are missing.\n",
        "       * Use tools like .isnull() in pandas (Python) or visualizations (e.g., heatmaps).\n",
        "     2. Understand the Cause\n",
        "       * Are values missing at random, due to errors, or intentionally (e.g., skipped survey questions)?\n",
        "     3. Decide on a Strategy\n",
        "       * Based on how much data is missing and the importance of the feature:\n",
        "         * Drop rows or columns\n",
        "         * Impute (fill in) missing values\n",
        "     4. Apply the Chosen Technique\n",
        "         * Use suitable methods for numerical and categorical data.\n",
        "     5. Validate\n",
        "         * After imputation, check that your model performance or data distribution hasn’t been negatively affected.\n",
        "      \n",
        "      **Imputation Techniques:**\n",
        "      \n",
        "       For Numerical Data: Mean Imputation\n",
        "       * Description: Replace missing values with the mean of the column.\n",
        "       * When to Use: When the data is normally distributed and missing values are relatively few.\n",
        "       * Example:\n",
        "       \n",
        "       A column of ages: [25, 30, NaN, 40]\n",
        "\n",
        "       → Mean = 31.66\n",
        "\n",
        "       → Replace NaN with 31.66\n",
        "\n",
        "       For Categorical Data: Mode Imputation\n",
        "       * Description: Replace missing values with the most frequent category (mode) in that column.\n",
        "       * When to Use: When the missingness is random and the mode represents a meaningful category.\n",
        "       * Example:\n",
        "\n",
        "       A column of gender: [Male, Female, NaN, Female]\n",
        "\n",
        "       → Mode = \"Female\"\n",
        "\n",
        "       → Replace NaN with \"Female\"\n"
      ],
      "metadata": {
        "id": "LXp_oup97w0H"
      }
    },
    {
      "cell_type": "markdown",
      "source": [
        "6. Write a Python program that:\n",
        "* Creates a synthetic imbalanced dataset with make_classification() from\n",
        "sklearn.datasets.\n",
        "* Prints the class distribution"
      ],
      "metadata": {
        "id": "47GkhEnowRmQ"
      }
    },
    {
      "cell_type": "code",
      "execution_count": null,
      "metadata": {
        "id": "Cz_ADHan0vPn",
        "colab": {
          "base_uri": "https://localhost:8080/"
        },
        "outputId": "abedffe7-dfba-4214-91ef-c47614ed2ab0"
      },
      "outputs": [
        {
          "output_type": "stream",
          "name": "stdout",
          "text": [
            "Class distribution:\n",
            "Class 0: 900 samples\n",
            "Class 1: 100 samples\n",
            "\n",
            "Class distribution (DataFrame format):\n",
            "   Class  Count\n",
            "0      0    900\n",
            "1      1    100\n"
          ]
        }
      ],
      "source": [
        "from sklearn.datasets import make_classification\n",
        "from collections import Counter\n",
        "import pandas as pd\n",
        "# Step 1: Create synthetic imbalanced dataset\n",
        "X, y = make_classification(\n",
        "    n_samples=1000,        # Total number of samples\n",
        "    n_features=20,         # Number of features\n",
        "    n_informative=2,       # Number of informative features\n",
        "    n_redundant=10,        # Number of redundant features\n",
        "    n_clusters_per_class=1,\n",
        "    weights=[0.9, 0.1],    # Imbalance ratio (90% of class 0, 10% of class 1)\n",
        "    flip_y=0,              # No label noise\n",
        "    random_state=42        # Reproducibility\n",
        ")\n",
        "# Step 2: Print class distribution\n",
        "counter = Counter(y)\n",
        "print(\"Class distribution:\")\n",
        "for cls, count in counter.items():\n",
        "    print(f\"Class {cls}: {count} samples\")\n",
        "\n",
        "# Optional: Display as a DataFrame\n",
        "df = pd.DataFrame({'Class': list(counter.keys()), 'Count': list(counter.values())})\n",
        "print(\"\\nClass distribution (DataFrame format):\")\n",
        "print(df)"
      ]
    },
    {
      "cell_type": "markdown",
      "source": [
        "7. Implement one-hot encoding using pandas for the following list of colors:\n",
        "['Red', 'Green', 'Blue', 'Green', 'Red']. Print the resulting dataframe."
      ],
      "metadata": {
        "id": "yAxt4O0vzkl9"
      }
    },
    {
      "cell_type": "code",
      "source": [
        "import pandas as pd\n",
        "\n",
        "# Original list of colors\n",
        "colors = ['Red', 'Green', 'Blue', 'Green', 'Red']\n",
        "\n",
        "# Create a DataFrame\n",
        "df = pd.DataFrame({'Color': colors})\n",
        "\n",
        "# Perform one-hot encoding\n",
        "one_hot_encoded = pd.get_dummies(df['Color'])\n",
        "\n",
        "# Print the resulting DataFrame\n",
        "print(\"One-hot encoded DataFrame:\")\n",
        "print(one_hot_encoded)"
      ],
      "metadata": {
        "colab": {
          "base_uri": "https://localhost:8080/"
        },
        "id": "ftIYx74TzY7k",
        "outputId": "a2fc05f1-e28c-4bfb-ccfd-5cb9d8eb3dbf"
      },
      "execution_count": null,
      "outputs": [
        {
          "output_type": "stream",
          "name": "stdout",
          "text": [
            "One-hot encoded DataFrame:\n",
            "    Blue  Green    Red\n",
            "0  False  False   True\n",
            "1  False   True  False\n",
            "2   True  False  False\n",
            "3  False   True  False\n",
            "4  False  False   True\n"
          ]
        }
      ]
    },
    {
      "cell_type": "markdown",
      "source": [
        "8. Write a Python script to:\n",
        "* Generate 1000 samples from a normal distribution.\n",
        "* Introduce 50 random missing values.\n",
        "* Fill missing values with the column mean.\n",
        "* Plot a histogram before and after imputation."
      ],
      "metadata": {
        "id": "cAVSHkVZz7gV"
      }
    },
    {
      "cell_type": "code",
      "source": [
        "import numpy as np\n",
        "import pandas as pd\n",
        "import matplotlib.pyplot as plt\n",
        "\n",
        "# Step 1: Generate 1000 samples from a normal distribution\n",
        "np.random.seed(42)\n",
        "data = np.random.normal(loc=0, scale=1, size=1000)\n",
        "\n",
        "# Step 2: Introduce 50 random missing values\n",
        "data_with_nan = data.copy()\n",
        "nan_indices = np.random.choice(len(data), size=50, replace=False)\n",
        "data_with_nan[nan_indices] = np.nan\n",
        "\n",
        "# Step 3: Fill missing values with the column mean\n",
        "data_filled = pd.Series(data_with_nan).fillna(np.nanmean(data_with_nan))\n",
        "\n",
        "# Step 4: Plot histograms before and after imputation\n",
        "plt.figure(figsize=(12, 6))\n",
        "\n",
        "# Before imputation\n",
        "plt.subplot(1, 2, 1)\n",
        "plt.hist(data_with_nan[~np.isnan(data_with_nan)], bins=30, color='skyblue', edgecolor='black')\n",
        "plt.title('Before Imputation (Missing Values Removed)')\n",
        "plt.xlabel('Value')\n",
        "plt.ylabel('Frequency')\n",
        "\n",
        "# After imputation\n",
        "plt.subplot(1, 2, 2)\n",
        "plt.hist(data_filled, bins=30, color='lightgreen', edgecolor='black')\n",
        "plt.title('After Imputation (Mean Filled)')\n",
        "plt.xlabel('Value')\n",
        "plt.ylabel('Frequency')\n",
        "\n",
        "plt.tight_layout()\n",
        "plt.show()"
      ],
      "metadata": {
        "colab": {
          "base_uri": "https://localhost:8080/",
          "height": 607
        },
        "id": "alb5FhMSzz9x",
        "outputId": "be10ca6d-c739-4225-fb1e-c01676e55794"
      },
      "execution_count": null,
      "outputs": [
        {
          "output_type": "display_data",
          "data": {
            "text/plain": [
              "<Figure size 1200x600 with 2 Axes>"
            ],
            "image/png": "[encoded data removed]"
          },
          "metadata": {}
        }
      ]
    },
    {
      "cell_type": "markdown",
      "source": [
        "Key Notes:\n",
        "* np.random.normal() generates the normal distribution.\n",
        "* Missing values are introduced by setting 50 random indices to np.nan.\n",
        "* fillna() is used to impute missing values with the mean.\n",
        "* Matplotlib is used for plotting the histograms."
      ],
      "metadata": {
        "id": "P84HUpwT01db"
      }
    },
    {
      "cell_type": "markdown",
      "source": [
        "9. Implement Min-Max scaling on the following list of numbers [2, 5, 10, 15,\n",
        "20] using sklearn.preprocessing.MinMaxScaler. Print the scaled array."
      ],
      "metadata": {
        "id": "jwc-aQkD1HS0"
      }
    },
    {
      "cell_type": "code",
      "source": [
        "from sklearn.preprocessing import MinMaxScaler\n",
        "import numpy as np\n",
        "\n",
        "# Original data\n",
        "data = np.array([2, 5, 10, 15, 20]).reshape(-1, 1)  # Reshape to 2D for sklearn\n",
        "\n",
        "# Initialize MinMaxScaler\n",
        "scaler = MinMaxScaler()\n",
        "\n",
        "# Fit and transform the data\n",
        "scaled_data = scaler.fit_transform(data)\n",
        "\n",
        "# Print the scaled array\n",
        "print(\"Scaled array:\")\n",
        "print(scaled_data)"
      ],
      "metadata": {
        "colab": {
          "base_uri": "https://localhost:8080/"
        },
        "id": "6ifzt2W20dDE",
        "outputId": "cdf7c884-3aee-4058-91e4-41b857394b7e"
      },
      "execution_count": null,
      "outputs": [
        {
          "output_type": "stream",
          "name": "stdout",
          "text": [
            "Scaled array:\n",
            "[[0.        ]\n",
            " [0.16666667]\n",
            " [0.44444444]\n",
            " [0.72222222]\n",
            " [1.        ]]\n"
          ]
        }
      ]
    },
    {
      "cell_type": "markdown",
      "source": [
        "10. You are working as a data scientist for a retail company. You receive a customer\n",
        "transaction dataset that contains:\n",
        "* Missing ages,\n",
        "* Outliers in transaction amount,\n",
        "* A highly imbalanced target (fraud vs. non-fraud),\n",
        "* Categorical variables like payment method.\n",
        "Explain the step-by-step data preparation plan you’d follow before training a machine learning\n",
        "model. Include how you’d address missing data, outliers, imbalance, and encoding."
      ],
      "metadata": {
        "id": "GS_ZVnId1k9c"
      }
    },
    {
      "cell_type": "markdown",
      "source": [
        "As a data scientist preparing a customer transaction dataset for machine learning, you need a systematic and robust data preparation pipeline. Below is a step-by-step plan that addresses the specific issues you've described:\n",
        "\n",
        "**Step 1: Exploratory Data Analysis (EDA)**\n",
        "\n",
        "Before any transformations:\n",
        "* Understand the dataset structure: column types, basic stats.\n",
        "* Visualize distributions (e.g., histograms, box plots).\n",
        "* Check for missing values, outliers, class imbalance.\n",
        "* Assess categorical variables: cardinality, frequency.\n",
        "\n",
        "Step 2: Handling Missing Ages\n",
        "\n",
        "Problem: Missing values in age column.\n",
        "\n",
        "Approaches:\n",
        "1. If missingness is small (<5%):\n",
        "* Use mean/median imputation (median is safer for skewed data).\n",
        "2. If missingness is larger or depends on other variables:\n",
        "* Use predictive imputation: train a model (e.g., decision tree regressor) to predict missing ages using other features.\n",
        "* Alternatively, use KNN imputation or multivariate imputation (e.g., IterativeImputer).\n",
        "3. Flag missingness:\n",
        "* Add a binary feature like age_missing to capture possible signal in the fact that age was missing.\n",
        "\n",
        "Step 3: Outlier Treatment in Transaction Amount\n",
        "\n",
        "Problem: Presence of extreme transaction amounts.\n",
        "\n",
        "Detection:\n",
        "* Use box plots, IQR method, or z-scores.\n",
        "* Alternatively, apply log transformation to normalize skewed data.\n",
        "\n",
        "Handling:\n",
        "* Cap (winsorize) outliers: replace extreme values with a threshold (e.g., 99th percentile).\n",
        "* Remove extreme outliers if they are data errors or noise.\n",
        "* Log-transform (e.g., np.log1p()) to reduce skewness without removing data.\n",
        "\n",
        "Step 4: Handling Imbalanced Target (Fraud vs. Non-Fraud)\n",
        "\n",
        "Problem: Highly imbalanced classes.\n",
        "\n",
        "Approaches:\n",
        "1. Resampling:\n",
        "* Oversample minority class (e.g., using SMOTE, ADASYN).\n",
        "* Undersample majority class.\n",
        "* Combine both (e.g., SMOTE + Tomek Links).\n",
        "2. Algorithmic solutions:\n",
        "* Use class weights in models like logistic regression, random forest, XGBoost (scale_pos_weight).\n",
        "* Use anomaly detection models if fraud is very rare.\n",
        "3. Evaluation metrics:\n",
        "* Avoid accuracy; use Precision, Recall, F1-score, AUC-ROC, and PR AUC.\n",
        "\n",
        "Step 5: Encoding Categorical Variables\n",
        "\n",
        "Problem: Payment method and similar features are categorical.\n",
        "\n",
        "Approaches:\n",
        "\n",
        "1. Low cardinality (e.g., few unique values like 'card', 'cash', 'paypal'):\n",
        "* Use one-hot encoding (pd.get_dummies() or OneHotEncoder).\n",
        "2. High cardinality (e.g., product IDs):\n",
        "* Use target encoding (mean of target per category) — be careful of data leakage.\n",
        "* Use frequency encoding (count of category occurrences).\n",
        "* Consider embedding if using deep learning models.\n",
        "\n",
        "Step 6: Feature Scaling\n",
        "* Apply standardization (StandardScaler) or MinMax scaling for numerical    features, especially for:\n",
        "  * Distance-based models (KNN, SVM).\n",
        "  * Neural networks.\n",
        "* Don’t scale tree-based models (e.g., Random Forest, XGBoost) — they are not sensitive to feature scales.\n",
        "\n",
        "Step 7: Train-Test Split and Cross-Validation\n",
        "* Perform stratified split to preserve class imbalance.\n",
        "* Use Stratified K-Fold CV for training to ensure class representation in each fold.\n",
        "\n",
        "Step 8: Pipeline Construction\n",
        "* Build a data pipeline using sklearn.pipeline.Pipeline or ColumnTransformer to:\n",
        "  * Impute missing values.\n",
        "  * Encode categoricals.\n",
        "  * Scale features.\n",
        "  * Prevent data leakage.\n",
        "\n",
        "Step 9: Final Checks\n",
        "* Check feature importance after model training.\n",
        "* Use SHAP or LIME to interpret how features affect predictions (especially for fraud detection).\n",
        "\n"
      ],
      "metadata": {
        "id": "PBH-5ey116d3"
      }
    }
  ]
}